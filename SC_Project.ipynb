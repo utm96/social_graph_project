{
 "cells": [
  {
   "cell_type": "markdown",
   "id": "2f493a7a",
   "metadata": {},
   "source": [
    "# Social Graph Project"
   ]
  },
  {
   "cell_type": "code",
   "execution_count": 8,
   "id": "641a9aef",
   "metadata": {},
   "outputs": [],
   "source": [
    "%matplotlib inline\n",
    "\n",
    "from scipy.io import mmread\n",
    "import networkx as nx\n",
    "import matplotlib.pyplot as plt"
   ]
  },
  {
   "cell_type": "code",
   "execution_count": 9,
   "id": "bdc7e052",
   "metadata": {},
   "outputs": [],
   "source": [
    "a = mmread('data\\soc-twitter-follows')\n",
    "graph = nx.Graph(a)\n",
    "\n",
    "# G = nx.read_edgelist(\"data\\soc-twitter-follows.mtx\")"
   ]
  },
  {
   "cell_type": "code",
   "execution_count": 11,
   "id": "79780c11",
   "metadata": {},
   "outputs": [
    {
     "data": {
      "text/plain": [
       "404719"
      ]
     },
     "execution_count": 11,
     "metadata": {},
     "output_type": "execute_result"
    }
   ],
   "source": [
    "len(graph.nodes())"
   ]
  },
  {
   "cell_type": "code",
   "execution_count": 12,
   "id": "649f3834",
   "metadata": {},
   "outputs": [
    {
     "data": {
      "text/plain": [
       "713319"
      ]
     },
     "execution_count": 12,
     "metadata": {},
     "output_type": "execute_result"
    }
   ],
   "source": [
    "len(graph.edges())"
   ]
  },
  {
   "cell_type": "code",
   "execution_count": null,
   "id": "7e5b3890",
   "metadata": {},
   "outputs": [],
   "source": []
  }
 ],
 "metadata": {
  "kernelspec": {
   "display_name": "Python 3 (ipykernel)",
   "language": "python",
   "name": "python3"
  },
  "language_info": {
   "codemirror_mode": {
    "name": "ipython",
    "version": 3
   },
   "file_extension": ".py",
   "mimetype": "text/x-python",
   "name": "python",
   "nbconvert_exporter": "python",
   "pygments_lexer": "ipython3",
   "version": "3.11.4"
  }
 },
 "nbformat": 4,
 "nbformat_minor": 5
}
